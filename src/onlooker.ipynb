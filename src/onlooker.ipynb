{
 "cells": [
  {
   "cell_type": "code",
   "execution_count": 65,
   "metadata": {},
   "outputs": [],
   "source": [
    "import pandas as pd\n",
    "import numpy as np\n",
    "import os\n",
    "import matplotlib.pyplot as plt\n",
    "import json"
   ]
  },
  {
   "cell_type": "code",
   "execution_count": 66,
   "metadata": {},
   "outputs": [
    {
     "name": "stderr",
     "output_type": "stream",
     "text": [
      "C:\\Users\\ustym\\AppData\\Local\\Temp\\ipykernel_3036\\2364427809.py:1: DtypeWarning: Columns (9) have mixed types. Specify dtype option on import or set low_memory=False.\n",
      "  listing_df = pd.read_csv(r\"../dataset/validated.tsv\", sep=\"\\t\")\n"
     ]
    }
   ],
   "source": [
    "listing_df = pd.read_csv(r\"../dataset/validated.tsv\", sep=\"\\t\")\n"
   ]
  },
  {
   "cell_type": "code",
   "execution_count": 67,
   "metadata": {},
   "outputs": [
    {
     "name": "stdout",
     "output_type": "stream",
     "text": [
      "<class 'pandas.core.frame.DataFrame'>\n",
      "RangeIndex: 74996 entries, 0 to 74995\n",
      "Data columns (total 13 columns):\n",
      " #   Column           Non-Null Count  Dtype  \n",
      "---  ------           --------------  -----  \n",
      " 0   client_id        74996 non-null  object \n",
      " 1   path             74996 non-null  object \n",
      " 2   sentence_id      74996 non-null  object \n",
      " 3   sentence         74996 non-null  object \n",
      " 4   sentence_domain  0 non-null      float64\n",
      " 5   up_votes         74996 non-null  int64  \n",
      " 6   down_votes       74996 non-null  int64  \n",
      " 7   age              56974 non-null  object \n",
      " 8   gender           56608 non-null  object \n",
      " 9   accents          8335 non-null   object \n",
      " 10  variant          0 non-null      float64\n",
      " 11  locale           74996 non-null  object \n",
      " 12  segment          0 non-null      float64\n",
      "dtypes: float64(3), int64(2), object(8)\n",
      "memory usage: 7.4+ MB\n"
     ]
    }
   ],
   "source": [
    "listing_df.info()"
   ]
  },
  {
   "cell_type": "code",
   "execution_count": 78,
   "metadata": {},
   "outputs": [
    {
     "name": "stdout",
     "output_type": "stream",
     "text": [
      "44900\n"
     ]
    }
   ],
   "source": [
    "value_cnts = listing_df[\"sentence_id\"].nunique()\n",
    "print(value_cnts)\n",
    "# plt.figure(figsize=(10, 6))\n",
    "# plt.hist(value_cnts, bins=max(value_cnts), edgecolor='black')\n",
    "# plt.title('Distribution of Value Counts')\n",
    "# plt.xlabel('Number of Occurrences')\n",
    "# plt.ylabel('Count')\n",
    "# plt.show()\n"
   ]
  },
  {
   "cell_type": "markdown",
   "metadata": {},
   "source": [
    "10 users\n",
    "- **train**       8 examples from each of 10 users\n",
    "- **validate**   1 example from each of 10 users\n",
    "- **test**        1 example from each of 10 users"
   ]
  },
  {
   "cell_type": "code",
   "execution_count": 76,
   "metadata": {},
   "outputs": [],
   "source": [
    "# Neeed 10 users who have 10 examples each.\n",
    "users = 20\n",
    "training_num = 16\n",
    "values_counts_df = pd.DataFrame(value_cnts)\n",
    "distribution = {}\n",
    "for i in values_counts_df.iterrows():\n",
    "    if i[1][0] == training_num + training_num * (2/8) and users > 0:\n",
    "        distribution[i[0]] = 0\n",
    "        users -= 1\n",
    "\n",
    "for i in distribution.keys():\n",
    "    lst = list(listing_df.loc[listing_df['client_id'] == i][\"path\"])\n",
    "    st = int(training_num + training_num * (1/8))\n",
    "    distribution[i] = {\"train\": lst[:training_num], \n",
    "                       \"validation\": lst[training_num:st], \n",
    "                       \"test\": lst[st:]}\n",
    "\n",
    "\n",
    "with open(\"seperation.json\", \"w\", encoding=\"utf-8\") as f:\n",
    "    json.dump(distribution, f)"
   ]
  }
 ],
 "metadata": {
  "kernelspec": {
   "display_name": "Python 3",
   "language": "python",
   "name": "python3"
  },
  "language_info": {
   "codemirror_mode": {
    "name": "ipython",
    "version": 3
   },
   "file_extension": ".py",
   "mimetype": "text/x-python",
   "name": "python",
   "nbconvert_exporter": "python",
   "pygments_lexer": "ipython3",
   "version": "3.10.7"
  }
 },
 "nbformat": 4,
 "nbformat_minor": 2
}
